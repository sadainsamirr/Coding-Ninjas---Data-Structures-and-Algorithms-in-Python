{
  "nbformat": 4,
  "nbformat_minor": 0,
  "metadata": {
    "colab": {
      "provenance": [],
      "authorship_tag": "ABX9TyN3B6+JGFZ6nHL5bw0zIM8Q",
      "include_colab_link": true
    },
    "kernelspec": {
      "name": "python3",
      "display_name": "Python 3"
    },
    "language_info": {
      "name": "python"
    }
  },
  "cells": [
    {
      "cell_type": "markdown",
      "metadata": {
        "id": "view-in-github",
        "colab_type": "text"
      },
      "source": [
        "<a href=\"https://colab.research.google.com/github/sadainsamirr/Coding-Ninjas---Data-Structures-and-Algorithms-in-Python/blob/master/20240701_Session01_python.ipynb\" target=\"_parent\"><img src=\"https://colab.research.google.com/assets/colab-badge.svg\" alt=\"Open In Colab\"/></a>"
      ]
    },
    {
      "cell_type": "markdown",
      "source": [
        "# using print function"
      ],
      "metadata": {
        "id": "pZ3rWrhx1ZgJ"
      }
    },
    {
      "cell_type": "code",
      "execution_count": null,
      "metadata": {
        "colab": {
          "base_uri": "https://localhost:8080/"
        },
        "id": "psEzvpX-yMUh",
        "outputId": "263fc315-4fd9-4977-f41d-33cd8b9b46e1"
      },
      "outputs": [
        {
          "output_type": "stream",
          "name": "stdout",
          "text": [
            "hello World\n"
          ]
        }
      ],
      "source": [
        "print(\"hello World\")"
      ]
    },
    {
      "cell_type": "code",
      "source": [
        "print(\"Sadain\")"
      ],
      "metadata": {
        "colab": {
          "base_uri": "https://localhost:8080/"
        },
        "id": "ea0B1crs1yho",
        "outputId": "01257b0d-a5d9-4a48-e6c1-3f529f1e98cc"
      },
      "execution_count": null,
      "outputs": [
        {
          "output_type": "stream",
          "name": "stdout",
          "text": [
            "Sadain\n"
          ]
        }
      ]
    },
    {
      "cell_type": "code",
      "source": [
        "print(7)"
      ],
      "metadata": {
        "colab": {
          "base_uri": "https://localhost:8080/"
        },
        "id": "l8O8vk982JSe",
        "outputId": "44f0a016-0c1b-4d11-bd32-5cf058c64cd4"
      },
      "execution_count": null,
      "outputs": [
        {
          "output_type": "stream",
          "name": "stdout",
          "text": [
            "7\n"
          ]
        }
      ]
    },
    {
      "cell_type": "code",
      "source": [
        "print(True)"
      ],
      "metadata": {
        "colab": {
          "base_uri": "https://localhost:8080/"
        },
        "id": "YQqLjKLq3aNG",
        "outputId": "7c41ee7e-f8cb-4f15-af60-ddaa8fd06afc"
      },
      "execution_count": null,
      "outputs": [
        {
          "output_type": "stream",
          "name": "stdout",
          "text": [
            "True\n"
          ]
        }
      ]
    },
    {
      "cell_type": "code",
      "source": [
        "print(\"hello\", end = \"-\")\n",
        "print(\"world\")"
      ],
      "metadata": {
        "colab": {
          "base_uri": "https://localhost:8080/"
        },
        "id": "tDzCuTdR3bcc",
        "outputId": "e2d6eb66-9759-492c-adb7-5ab162474c64"
      },
      "execution_count": null,
      "outputs": [
        {
          "output_type": "stream",
          "name": "stdout",
          "text": [
            "hello-world\n"
          ]
        }
      ]
    },
    {
      "cell_type": "code",
      "source": [
        "print(\"hello\", True, 12, 4.5)"
      ],
      "metadata": {
        "colab": {
          "base_uri": "https://localhost:8080/"
        },
        "id": "Bvp7wfc_6Ce3",
        "outputId": "79f48ca9-a3aa-4d18-9f4a-0c7008d04caa"
      },
      "execution_count": null,
      "outputs": [
        {
          "output_type": "stream",
          "name": "stdout",
          "text": [
            "hello True 12 4.5\n"
          ]
        }
      ]
    },
    {
      "cell_type": "code",
      "source": [
        "print(\"hello\", True, 12, 4.5, sep = \"/\")"
      ],
      "metadata": {
        "colab": {
          "base_uri": "https://localhost:8080/"
        },
        "id": "ufziHQJz6quC",
        "outputId": "91b2df66-9f70-4edc-8741-1bf6ade6fbe4"
      },
      "execution_count": null,
      "outputs": [
        {
          "output_type": "stream",
          "name": "stdout",
          "text": [
            "hello/True/12/4.5\n"
          ]
        }
      ]
    },
    {
      "cell_type": "markdown",
      "source": [
        "# DataTypes"
      ],
      "metadata": {
        "id": "w6p6efOeXrZh"
      }
    },
    {
      "cell_type": "code",
      "source": [
        "print([1, 2, 3, 4, 5]) #list"
      ],
      "metadata": {
        "colab": {
          "base_uri": "https://localhost:8080/"
        },
        "id": "b3J6cY6j67Am",
        "outputId": "77124e2c-3d23-4841-b672-8be7b065528b"
      },
      "execution_count": null,
      "outputs": [
        {
          "output_type": "stream",
          "name": "stdout",
          "text": [
            "[1, 2, 3, 4, 5]\n"
          ]
        }
      ]
    },
    {
      "cell_type": "code",
      "source": [
        "print((1, 2, 3, 4, 5)) #tuple"
      ],
      "metadata": {
        "colab": {
          "base_uri": "https://localhost:8080/"
        },
        "id": "8SCYCOAUXt63",
        "outputId": "c6840e33-f07b-4bd8-f9bb-060b0c04c06c"
      },
      "execution_count": null,
      "outputs": [
        {
          "output_type": "stream",
          "name": "stdout",
          "text": [
            "(1, 2, 3, 4, 5)\n"
          ]
        }
      ]
    },
    {
      "cell_type": "code",
      "source": [
        "print({1, 2, 3, 4, 5}) #set"
      ],
      "metadata": {
        "colab": {
          "base_uri": "https://localhost:8080/"
        },
        "id": "TLGdT_h0X8eG",
        "outputId": "c4662c5e-c85b-4865-a44a-359f2ac51dc0"
      },
      "execution_count": null,
      "outputs": [
        {
          "output_type": "stream",
          "name": "stdout",
          "text": [
            "{1, 2, 3, 4, 5}\n"
          ]
        }
      ]
    },
    {
      "cell_type": "code",
      "source": [
        "print({\"a\", \"b\", \"c\", \"d\", \"e\"}) #set"
      ],
      "metadata": {
        "colab": {
          "base_uri": "https://localhost:8080/"
        },
        "id": "OvqLKFgWX-s0",
        "outputId": "793f1215-78d4-417a-85d9-f2349c0a345e"
      },
      "execution_count": null,
      "outputs": [
        {
          "output_type": "stream",
          "name": "stdout",
          "text": [
            "{'a', 'b', 'e', 'd', 'c'}\n"
          ]
        }
      ]
    },
    {
      "cell_type": "code",
      "source": [
        "print({'Name': 'Sadain', 'Gender': 'Male', 'Age': 21}) #dict"
      ],
      "metadata": {
        "colab": {
          "base_uri": "https://localhost:8080/"
        },
        "id": "wB0ICxoEYBT_",
        "outputId": "ac96c5da-f5fe-44d3-912b-e14ba3aae240"
      },
      "execution_count": null,
      "outputs": [
        {
          "output_type": "stream",
          "name": "stdout",
          "text": [
            "{'Name': 'Sadain', 'Gender': 'Male', 'Age': 21}\n"
          ]
        }
      ]
    },
    {
      "cell_type": "code",
      "source": [
        "a =int(input(\"enter first number\"))\n",
        "b =int(input(\"enter second number\"))\n",
        "print(a+b)\n"
      ],
      "metadata": {
        "colab": {
          "base_uri": "https://localhost:8080/"
        },
        "id": "Cn6r06qMYM9g",
        "outputId": "0120a2b9-f22c-4d61-ad1e-1be9f6e60551"
      },
      "execution_count": null,
      "outputs": [
        {
          "output_type": "stream",
          "name": "stdout",
          "text": [
            "enter first number3\n",
            "enter second number4\n",
            "7\n"
          ]
        }
      ]
    },
    {
      "cell_type": "code",
      "source": [
        "print(\"Data\", \"Science\", \"Mentorship\", \"Program\",\n",
        "\"By\",\"CampusX\", sep = '-')"
      ],
      "metadata": {
        "colab": {
          "base_uri": "https://localhost:8080/"
        },
        "id": "ZhZcihm6MmqD",
        "outputId": "09dc02af-ec74-45fb-9418-23a995ef19de"
      },
      "execution_count": null,
      "outputs": [
        {
          "output_type": "stream",
          "name": "stdout",
          "text": [
            "Data-Science-Mentorship-Program-By-CampusX\n"
          ]
        }
      ]
    },
    {
      "cell_type": "code",
      "source": [
        "# Q2:- Write a program that will convert celsius value to fahrenheit.\n",
        "celsius = float(input(\"Enter temperature in Celsius:\"))\n",
        "fahrenheit = (celsius * 9/5) + 32\n",
        "print(\"Temperature in Fahrenheit is : \", fahrenheit)"
      ],
      "metadata": {
        "colab": {
          "base_uri": "https://localhost:8080/"
        },
        "id": "ozwnaWTTb5Ai",
        "outputId": "c1a5d4e8-938e-43ce-d44a-22fd30904321"
      },
      "execution_count": null,
      "outputs": [
        {
          "output_type": "stream",
          "name": "stdout",
          "text": [
            "Enter temperature in Celsius:32\n",
            "Temperature in Fahrenheit is :  89.6\n"
          ]
        }
      ]
    },
    {
      "cell_type": "code",
      "source": [
        "#Q3:- Take 2 numbers as input from the user.Write a program to swap the numbers without using any special python syntax.\n",
        "a = int(input())\n",
        "b = int(input())\n",
        "a, b = b, a\n",
        "print(a, b)"
      ],
      "metadata": {
        "colab": {
          "base_uri": "https://localhost:8080/"
        },
        "id": "8fHqAUwCcwCo",
        "outputId": "9ce62544-1a77-44c0-a6e0-281b9e210098"
      },
      "execution_count": null,
      "outputs": [
        {
          "output_type": "stream",
          "name": "stdout",
          "text": [
            "2\n",
            "3\n",
            "3 2\n"
          ]
        }
      ]
    },
    {
      "cell_type": "code",
      "source": [
        "# Write a program to find the euclidean distance between two coordinates.Take both the coordinates from the user as input.\n",
        "x1 = int(input())\n",
        "x2 = int(input())\n",
        "y1 = int(input())\n",
        "y2 = int(input())\n",
        "distance = ((x2 - x1)**2 + (y2 - y1)**2)**0.5\n",
        "print(distance)"
      ],
      "metadata": {
        "colab": {
          "base_uri": "https://localhost:8080/"
        },
        "id": "6eh6UyepdL06",
        "outputId": "1b3b3f9f-1af2-436c-85b0-ae833d202ba5"
      },
      "execution_count": null,
      "outputs": [
        {
          "output_type": "stream",
          "name": "stdout",
          "text": [
            "3\n",
            "4\n",
            "4\n",
            "3\n",
            "1.4142135623730951\n"
          ]
        }
      ]
    },
    {
      "cell_type": "code",
      "source": [
        "# Write a program to find the simple interest when the value of principle,rate of interest and time period is provided by the user.\n",
        "p = int(input())\n",
        "r = int(input())\n",
        "t = int(input())\n",
        "simple_interest = p*r*t/100\n",
        "print(simple_interest)"
      ],
      "metadata": {
        "colab": {
          "base_uri": "https://localhost:8080/"
        },
        "id": "TEUWV_n-eEa_",
        "outputId": "45d338b9-e8d0-4a9e-8fd1-8a9aae79cf81"
      },
      "execution_count": null,
      "outputs": [
        {
          "output_type": "stream",
          "name": "stdout",
          "text": [
            "3\n",
            "4\n",
            "5\n",
            "0.6\n"
          ]
        }
      ]
    },
    {
      "cell_type": "code",
      "source": [
        "# Write a program that will tell the number of dogs and chicken are there when the user will provide the value of total heads and legs.\n",
        "# For example: Input: heads -> 4 legs -> 12\n",
        "# Output: dogs -> 2 chicken -> 2\n",
        "heads = int(input(\"Enter the number of heads:\"))\n",
        "legs = int(input(\"Enter the number of legs\"))\n",
        "\n"
      ],
      "metadata": {
        "id": "CfgHZEvnelpN"
      },
      "execution_count": null,
      "outputs": []
    },
    {
      "cell_type": "code",
      "source": [
        "# Write a program to find the sum of squares of first n natural numbers where n will be provided by the user.\n",
        "n = int(input(\"Enter the value of n:\"))\n",
        "sum = 0\n",
        "for i in range(1, n+1):\n",
        "    sum +=i**2\n",
        "print(sum)\n"
      ],
      "metadata": {
        "colab": {
          "base_uri": "https://localhost:8080/"
        },
        "id": "4_zL8JzZoV-E",
        "outputId": "ffdd7f2f-815e-48a0-d5fe-f4e939f8f0ef"
      },
      "execution_count": null,
      "outputs": [
        {
          "output_type": "stream",
          "name": "stdout",
          "text": [
            "Enter the value of n:4\n",
            "30\n"
          ]
        }
      ]
    },
    {
      "cell_type": "code",
      "source": [
        "# Given the first 2 terms of an Arithmetic Series.Find the Nth term of the series. Assume all inputs are provided by the user.\n",
        "n = int(input(\"Enter the value of n: \"))\n",
        "a = int(input(\"Enter the value of a: \"))\n",
        "d = int(input(\"Enter the value of d: \"))\n",
        "print(a + (n - 1) * d)"
      ],
      "metadata": {
        "colab": {
          "base_uri": "https://localhost:8080/"
        },
        "id": "e8qM0fKUotdq",
        "outputId": "a3ad36ec-b853-4389-87a0-b0b3112c2c99"
      },
      "execution_count": null,
      "outputs": [
        {
          "output_type": "stream",
          "name": "stdout",
          "text": [
            "Enter the value of n: 3\n",
            "Enter the value of a: 4\n",
            "Enter the value of d: 3\n",
            "10\n"
          ]
        }
      ]
    },
    {
      "cell_type": "code",
      "source": [
        "# Given 2 fractions, find the sum of those 2 fractions.Take the numerator and denominator values of the fractions from the user.\n",
        "num1 = int(input(\"enter numerator: \"))\n",
        "denum1 = int(input(\"Enter Denominator: \"))\n",
        "num2 = int(input(\"enter numerator 2: \"))\n",
        "denum2 = int(input(\"Enter Denominator 2: \"))\n",
        "sum = (num1/denum1) + (num2/denum2)\n",
        "print(sum)"
      ],
      "metadata": {
        "colab": {
          "base_uri": "https://localhost:8080/"
        },
        "id": "-IOKc5NAqq-R",
        "outputId": "e370ed0e-84d1-4574-f4cc-bf0130c71256"
      },
      "execution_count": null,
      "outputs": [
        {
          "output_type": "stream",
          "name": "stdout",
          "text": [
            "enter numerator: 4\n",
            "Enter Denominator: 3\n",
            "enter numerator 2: 3\n",
            "Enter Denominator 2: 7\n",
            "1.7619047619047619\n"
          ]
        }
      ]
    },
    {
      "cell_type": "code",
      "source": [
        "# Write your code here\n",
        "h = int(input(\"enter height\"))\n",
        "l = int(input(\"enter length\"))\n",
        "b = int(input(\"enter breadth\"))\n",
        "volume = h*l*b\n",
        "h1 = int(input(\"enter height of glass\"))\n",
        "r1 = int(input(\"enter radius of glass\"))\n",
        "volume1 = 3.12*h1*r1\n",
        "print(volume//volume1)"
      ],
      "metadata": {
        "colab": {
          "base_uri": "https://localhost:8080/"
        },
        "id": "8VKVSkHlrHAG",
        "outputId": "430f7f89-4151-4f33-b6cf-14c8a410f9be"
      },
      "execution_count": null,
      "outputs": [
        {
          "output_type": "stream",
          "name": "stdout",
          "text": [
            "enter height20\n",
            "enter length20\n",
            "enter breadth20\n",
            "enter height of glass3\n",
            "enter radius of glass1\n",
            "854.0\n"
          ]
        }
      ]
    },
    {
      "cell_type": "code",
      "source": [],
      "metadata": {
        "id": "Ze2BeHsasyzi"
      },
      "execution_count": null,
      "outputs": []
    }
  ]
}